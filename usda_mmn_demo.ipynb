{
 "cells": [
  {
   "cell_type": "code",
   "execution_count": 1,
   "metadata": {},
   "outputs": [],
   "source": [
    "import pandas as pd\n",
    "import requests\n",
    "import json\n",
    "from requests.auth import HTTPBasicAuth\n",
    "from pprint import pprint\n",
    "import os"
   ]
  },
  {
   "cell_type": "code",
   "execution_count": 11,
   "metadata": {},
   "outputs": [],
   "source": [
    "url = 'https://marsapi.ams.usda.gov/services/v1.2/reports'\n",
    "username = os.getenv(\"USDA_MARS_API_KEY\")\n"
   ]
  },
  {
   "cell_type": "code",
   "execution_count": 12,
   "metadata": {},
   "outputs": [],
   "source": [
    "headers={'username':username}\n",
    "resp = requests.get(url, auth = (username, \"\"))\n",
    "raw_data = pd.DataFrame.from_dict(json.loads(resp.text))\n",
    "raw_data['markets'] = raw_data['markets'].str[0]\n",
    "raw_data['market_types'] = raw_data['market_types'].str[0]\n",
    "filtered_df = raw_data[raw_data['market_types'] == \"Terminal\"]\n",
    "filtered_df.to_csv('cache/terminal_markets.csv')"
   ]
  },
  {
   "cell_type": "code",
   "execution_count": 13,
   "metadata": {},
   "outputs": [
    {
     "name": "stdout",
     "output_type": "stream",
     "text": [
      "    slug_id                                        market_name  \\\n",
      "558    2277    Atlanta Terminal Market Fruit Prices (AJ_FV010)   \n",
      "559    2278  Atlanta Terminal Market Vegetables Prices (AJ_...   \n",
      "560    2279  Atlanta Terminal Market Onions and Potatoes Pr...   \n",
      "561    2280     Atlanta Terminal Market Nuts Prices (AJ_FV040)   \n",
      "562    2281  Baltimore Terminal Market Fruit Prices (BP_FV010)   \n",
      "\n",
      "                       markets  \n",
      "558    Atlanta Terminal Market  \n",
      "559    Atlanta Terminal Market  \n",
      "560    Atlanta Terminal Market  \n",
      "561    Atlanta Terminal Market  \n",
      "562  Baltimore Terminal Market  \n"
     ]
    }
   ],
   "source": [
    "markets_df = filtered_df[['slug_id', 'report_title', 'markets']].rename(columns={'report_title': 'market_name'})\n",
    "print(markets_df.head())\n"
   ]
  },
  {
   "cell_type": "code",
   "execution_count": 15,
   "metadata": {},
   "outputs": [
    {
     "name": "stdout",
     "output_type": "stream",
     "text": [
      "Dummy\n",
      "    slug_id                  market_name\n",
      "558    2277               Atlanta fruits\n",
      "559    2278           Atlanta vegetables\n",
      "560    2279  Atlanta onions and potatoes\n",
      "561    2280                 Atlanta nuts\n",
      "562    2281             Baltimore fruits\n"
     ]
    }
   ],
   "source": [
    "markets_df['markets'] = markets_df['markets'].str.replace(\"Terminal Market\", \"\")\n",
    "for index, row in markets_df.iterrows():\n",
    "    if row['slug_id'] == \"3704\":\n",
    "        print(\"Dummy\")\n",
    "    if \"Fruit\" in row['market_name']:\n",
    "        markets_df.at[index,'market_name'] = row['markets'] + \"fruits\"\n",
    "    elif \"Nuts\" in row['market_name']:\n",
    "        markets_df.at[index,'market_name'] = row['markets'] + \"nuts\"\n",
    "    elif \"Vegetables\" in row['market_name'] or \"Vegetable\" in row['market_name']:\n",
    "        markets_df.at[index,'market_name'] = row['markets'] + \"vegetables\"\n",
    "    elif \"Onions and Potatoes\" in row['market_name']:\n",
    "        markets_df.at[index, 'market_name'] = row['markets'] + \"onions and potatoes\"\n",
    "    elif \"Asian Vegetable\" in row['market_name']:\n",
    "        markets_df.at[index, 'market_name'] = row['markets'] + \"asian vegetables\"\n",
    "    elif \"Herbs\" in row['market_name']:\n",
    "        markets_df.at[index, 'market_name'] = row['markets'] + \"herbs\"\n",
    "    elif \"Tropical F&V\" in row['market_name']:\n",
    "        markets_df.at[index, 'market_name'] = row['markets'] + \"tropical f&v\"\n",
    "    elif \"Asian Vegetable\" in row['market_name']:\n",
    "        markets_df.at[index, 'market_name'] = row['markets'] + \"asian vegetables\"\n",
    "\n",
    "markets_df.drop(columns=['markets'],inplace=True)\n",
    "print(markets_df.head())"
   ]
  },
  {
   "cell_type": "code",
   "execution_count": 17,
   "metadata": {},
   "outputs": [
    {
     "name": "stdout",
     "output_type": "stream",
     "text": [
      "<class 'str'>\n"
     ]
    }
   ],
   "source": [
    "print(type(markets_df.iloc[0]['slug_id']))"
   ]
  },
  {
   "cell_type": "code",
   "execution_count": 34,
   "metadata": {},
   "outputs": [],
   "source": [
    "markets_df.to_csv(\"markets_db.csv\", index=False)"
   ]
  },
  {
   "cell_type": "code",
   "execution_count": 1,
   "metadata": {},
   "outputs": [
    {
     "name": "stdout",
     "output_type": "stream",
     "text": [
      "  report_date  slug_id        variety                   package    item_size  \\\n",
      "0  12/29/2023     2282     VINE RIPES               15 lb flats          28s   \n",
      "1  12/29/2023     2282     VINE RIPES  25 lb cartons place pack  extra large   \n",
      "2  12/29/2023     2282     VINE RIPES  25 lb cartons place pack        jumbo   \n",
      "3  12/29/2023     2282  MATURE GREENS       25 lb cartons loose     6x7 size   \n",
      "4  12/29/2023     2282  MATURE GREENS       25 lb cartons loose     6x6 size   \n",
      "\n",
      "       properties                   grade organic   origin low_price  \\\n",
      "0  GREEN-BREAKERS                  CD One       N   Canada     22.00   \n",
      "1       LIGHT RED                     N/A       N  Florida     36.00   \n",
      "2       LIGHT RED                     N/A       N  Florida     36.00   \n",
      "3   LIGHT RED-RED  85% U.S. One or Better       N  Florida     28.00   \n",
      "4   LIGHT RED-RED  85% U.S. One or Better       N  Florida     38.00   \n",
      "\n",
      "  high_price unit_sales  \n",
      "0      24.00        N/A  \n",
      "1      38.00        N/A  \n",
      "2      38.00        N/A  \n",
      "3      28.00        N/A  \n",
      "4      39.00        N/A  \n"
     ]
    }
   ],
   "source": [
    "from usda_mmn_utils import *\n",
    "prices_df = get_prices(commodity=\"Tomatoes\", slug_id = \"2282\", start_year=2023)\n",
    "print(prices_df.head())\n"
   ]
  },
  {
   "cell_type": "code",
   "execution_count": 20,
   "metadata": {},
   "outputs": [
    {
     "name": "stdout",
     "output_type": "stream",
     "text": [
      "commodity=Tomatoes;report_begin_date=01/01/2023:12/31/2023;\n"
     ]
    }
   ],
   "source": [
    "start_year = 2023\n",
    "end_year=2023\n",
    "date_str = \"01/01/\"+str(start_year)+\":12/31/\"+str(end_year)\n",
    "filter_dict = {'commodity':\"Tomatoes\", 'report_begin_date':date_str}\n",
    "filter_str = \"\"\n",
    "for key in filter_dict.keys():\n",
    "    filter_str = filter_str+key+\"=\"\n",
    "    filter_str = filter_str+filter_dict[key]+\";\"\n",
    "print(filter_str)\n"
   ]
  },
  {
   "cell_type": "code",
   "execution_count": 21,
   "metadata": {},
   "outputs": [
    {
     "name": "stdout",
     "output_type": "stream",
     "text": [
      "https://marsapi.ams.usda.gov/services/v1.2/reports/2282?q=commodity=Tomatoes;report_begin_date=01/01/2023:12/31/2023;&allSections=true\n",
      "Dummy\n"
     ]
    }
   ],
   "source": [
    "\n",
    "slug_id = 2282\n",
    "url = \"https://marsapi.ams.usda.gov/services/v1.2/reports\"+\"/\"+str(slug_id)\n",
    "username = os.getenv(\"USDA_MARS_API_KEY\")   # You need to store your API key as a User Variable in Windows or store it in .bashrc \n",
    "url = url + \"?q=\"+ filter_str + \"&allSections=true\"\n",
    "response = requests.get(url, auth = (username, \"\"))\n",
    "raw_data = json.loads(response.text)\n",
    "raw_df = pd.DataFrame(raw_data[1]['results'])\n",
    "print(\"Dummy\")\n"
   ]
  },
  {
   "cell_type": "code",
   "execution_count": 13,
   "metadata": {},
   "outputs": [
    {
     "data": {
      "text/plain": [
       "array(['Florida', 'Canada', 'Mexico', 'Georgia', 'Maryland', 'Alabama',\n",
       "       'Virginia', 'Tennessee', 'North Carolina', 'California',\n",
       "       'Michigan', 'New York', 'Pennsylvania', 'New Jersey',\n",
       "       'South Carolina', 'West Virginia', 'Guatemala'], dtype=object)"
      ]
     },
     "execution_count": 13,
     "metadata": {},
     "output_type": "execute_result"
    }
   ],
   "source": [
    "raw_df['origin'].unique()"
   ]
  },
  {
   "cell_type": "code",
   "execution_count": 13,
   "metadata": {},
   "outputs": [
    {
     "name": "stdout",
     "output_type": "stream",
     "text": [
      "This_string_is_weird\n"
     ]
    }
   ],
   "source": [
    "mystr = \"This string is weird\"\n",
    "newstr = \"_\".join(mystr.split())\n",
    "print(newstr)"
   ]
  }
 ],
 "metadata": {
  "kernelspec": {
   "display_name": "Python 3",
   "language": "python",
   "name": "python3"
  },
  "language_info": {
   "codemirror_mode": {
    "name": "ipython",
    "version": 3
   },
   "file_extension": ".py",
   "mimetype": "text/x-python",
   "name": "python",
   "nbconvert_exporter": "python",
   "pygments_lexer": "ipython3",
   "version": "3.11.9"
  }
 },
 "nbformat": 4,
 "nbformat_minor": 2
}
