{
 "cells": [
  {
   "cell_type": "code",
   "execution_count": 1,
   "metadata": {},
   "outputs": [],
   "source": [
    "from usda_mmn_utils import *\n",
    "import openpyxl"
   ]
  },
  {
   "cell_type": "code",
   "execution_count": 19,
   "metadata": {},
   "outputs": [
    {
     "name": "stdout",
     "output_type": "stream",
     "text": [
      "  slug_id                  market_name\n",
      "0    2277               Atlanta fruits\n",
      "1    2278           Atlanta vegetables\n",
      "2    2279  Atlanta onions and potatoes\n",
      "3    2280                 Atlanta nuts\n",
      "4    2281             Baltimore fruits\n",
      "    slug_id                                        market_name\n",
      "137    3706    Hamburg, Germany Terminal Nut Prices (HA_FV201)\n",
      "138    3716                                Tokyo, Japan fruits\n",
      "139    3717                            Tokyo, Japan vegetables\n",
      "140    3718                   Tokyo, Japan onions and potatoes\n",
      "141    3719  Tokyo, Japan Ornamental Terminal Prices (TK_FV...\n"
     ]
    }
   ],
   "source": [
    "markets_df = get_markets_list()\n",
    "print(markets_df.head())\n",
    "print(markets_df.tail())"
   ]
  },
  {
   "cell_type": "code",
   "execution_count": 20,
   "metadata": {},
   "outputs": [
    {
     "name": "stdout",
     "output_type": "stream",
     "text": [
      "['Limes', 'Lemons', 'Grapes', 'Plantains', 'Coconuts', 'Apples', 'Papaya', 'Bananas', 'Peaches', 'Kiwifruit', 'Mangoes', 'Oranges', 'Guava', 'Grapefruit', 'Avocados', 'Cantaloupes', 'Blueberries', 'Raspberries', 'Pears', 'Strawberries', 'Blackberries', 'Honeydews', 'Pineapples', 'Dates', 'Watermelons', 'Carambola - Star Fruit', 'Rambutan']\n"
     ]
    }
   ],
   "source": [
    "commodities_list = get_commodities_list(slug_id = markets_df.iloc[0]['slug_id'])\n",
    "print(commodities_list)\n"
   ]
  },
  {
   "cell_type": "code",
   "execution_count": 21,
   "metadata": {},
   "outputs": [],
   "source": [
    "prices_df = get_prices(commodity=commodities_list[0], slug_id=markets_df.iloc[0]['slug_id'], start_year=2020, end_year=2022)"
   ]
  },
  {
   "cell_type": "code",
   "execution_count": 22,
   "metadata": {},
   "outputs": [
    {
     "name": "stdout",
     "output_type": "stream",
     "text": [
      "  report_date report_begin_date report_end_date       published_date  \\\n",
      "0  12/31/2020        12/31/2020      12/31/2020  12/31/2020 00:00:00   \n",
      "1  12/31/2020        12/31/2020      12/31/2020  12/31/2020 00:00:00   \n",
      "2  12/31/2020        12/31/2020      12/31/2020  12/31/2020 00:00:00   \n",
      "3  12/31/2020        12/31/2020      12/31/2020  12/31/2020 00:00:00   \n",
      "4  12/31/2020        12/31/2020      12/31/2020  12/31/2020 00:00:00   \n",
      "\n",
      "                           office_name office_state  office_city market_type  \\\n",
      "0  Atlanta (Forest Park), Georgia - SC           GA  Forest Park    Terminal   \n",
      "1  Atlanta (Forest Park), Georgia - SC           GA  Forest Park    Terminal   \n",
      "2  Atlanta (Forest Park), Georgia - SC           GA  Forest Park    Terminal   \n",
      "3  Atlanta (Forest Park), Georgia - SC           GA  Forest Park    Terminal   \n",
      "4  Atlanta (Forest Park), Georgia - SC           GA  Forest Park    Terminal   \n",
      "\n",
      "      market_location_name market_location_state  ... high_price  \\\n",
      "0  Atlanta Terminal Market                    GA  ...       21.0   \n",
      "1  Atlanta Terminal Market                    GA  ...       21.0   \n",
      "2  Atlanta Terminal Market                    GA  ...       21.0   \n",
      "3  Atlanta Terminal Market                    GA  ...       19.5   \n",
      "4  Atlanta Terminal Market                    GA  ...        9.5   \n",
      "\n",
      "   mostly_low_price mostly_high_price market_tone_comments offerings_comments  \\\n",
      "0              19.0              20.0        ABOUT STEADY.               NONE   \n",
      "1              19.0              20.0        ABOUT STEADY.               NONE   \n",
      "2              19.0              19.0        ABOUT STEADY.               NONE   \n",
      "3              19.0              19.0        ABOUT STEADY.               NONE   \n",
      "4               9.0               9.0        ABOUT STEADY.               NONE   \n",
      "\n",
      "  special_notes  reporter_comment commodity_comments  report_narrative  \\\n",
      "0           NaN  NONE - few 22.50                NaN               NaN   \n",
      "1           NaN  NONE - few 22.50                NaN               NaN   \n",
      "2           NaN  NONE - few 22.50                NaN               NaN   \n",
      "3           NaN  NONE - few 22.50                NaN               NaN   \n",
      "4           NaN       NONE - NONE                NaN               NaN   \n",
      "\n",
      "  report_footnotes  \n",
      "0              NaN  \n",
      "1              NaN  \n",
      "2              NaN  \n",
      "3              NaN  \n",
      "4              NaN  \n",
      "\n",
      "[5 rows x 45 columns]\n"
     ]
    }
   ],
   "source": [
    "print(prices_df.head())"
   ]
  },
  {
   "cell_type": "code",
   "execution_count": 1,
   "metadata": {},
   "outputs": [
    {
     "name": "stdout",
     "output_type": "stream",
     "text": [
      "['Cabbage', 'Okra', 'Beans, Round Green Type', 'Marjoram', 'Asparagus', 'Spinach', 'Oregano', 'Tomatoes', 'Lemon Grass', 'Tomatillos', 'Squash, Yellow Straightneck', 'Bean Sprouts', 'Rutabagas', 'Parsley', 'Lettuce, Romaine', 'Cucumbers', 'Celery', 'Artichokes', 'Malanga/ Yautia', 'Greens, Swiss Chard', 'Taro', 'Chives', 'Peppers, Finger Hot', 'Chinese Cabbage', 'Daikon', 'Peppers, Bell Type', 'Mushrooms', 'Parsnips', 'Rosemary', 'Peppers, Serrano', 'Beets', 'Chayote', 'Dill', 'Beans, Cranberry Type', 'Cauliflower', 'Beans, Flat Green Type', 'Yuca (Cassava)', 'Watercress', 'Escarole', 'Celeriac (Celery Root)', 'Sweet Potatoes', 'Lettuce, Green Leaf', 'Radicchio', 'Carrots', 'Lettuce, Red Leaf', 'Tomatoes, Plum Type', 'Cilantro', 'Peppers, Habanero', 'Broccoli', 'Squash, Zucchini', 'Dry Eschallot', 'Mint', 'Eggplant', 'Arugula', 'Bok Choy', 'Tomatoes, Grape Type', 'Peas, Snow', 'Squash, Acorn', 'Endive', 'Alfalfa Sprouts', 'Turnips', 'Jicama', 'Squash, Yellow Crookneck', 'Sage', 'Basil', 'Lettuce, Iceberg', 'Beans, Half Runners', 'Peas, Sugar Snap', 'Onions, Green', 'Radishes', 'Squash, Butternut', 'Horseradish', 'Tarragon', 'Leeks', 'Garlic', 'Yams (Names)', 'Cactus Leaf (Nopales)', 'Corn, Sweet', 'Thyme', 'Squash, Spaghetti', 'Greens, Collard', 'Beans, Haricot Vert (French Type)', 'Peppers, Jalapeno', 'Brussels Sprouts', 'Greens, Kale', 'Peppers, Cubanelle', 'Lettuce, Boston', 'Greens, Dandelion', 'Greens, Turnip Tops', 'Anise', 'Beans, Fava', 'Aloe Leaves', 'Tomatoes, Cherry', 'Peppers, Poblano', 'Ginger Root', 'Greens, Mustard']\n"
     ]
    }
   ],
   "source": [
    "from usda_mmn_utils import *\n",
    "import openpyxl\n",
    "veg_market = \"2278\"\n",
    "commodities_list = get_commodities_list(slug_id = veg_market)\n",
    "print(commodities_list)"
   ]
  },
  {
   "cell_type": "code",
   "execution_count": 2,
   "metadata": {},
   "outputs": [
    {
     "name": "stdout",
     "output_type": "stream",
     "text": [
      "Index(['report_date', 'report_begin_date', 'report_end_date', 'published_date',\n",
      "       'office_name', 'office_state', 'office_city', 'market_type',\n",
      "       'market_location_name', 'market_location_state', 'market_location_city',\n",
      "       'slug_id', 'slug_name', 'report_title', 'group', 'category',\n",
      "       'commodity', 'variety', 'repack', 'package', 'storage',\n",
      "       'transportation_mode', 'grade', 'unit_sales', 'item_size', 'appearance',\n",
      "       'quality', 'condition', 'organic', 'crop', 'origin', 'district',\n",
      "       'environment', 'properties', 'low_price', 'high_price',\n",
      "       'mostly_low_price', 'mostly_high_price', 'market_tone_comments',\n",
      "       'offerings_comments', 'special_notes', 'reporter_comment',\n",
      "       'commodity_comments', 'report_narrative', 'report_footnotes'],\n",
      "      dtype='object')\n"
     ]
    }
   ],
   "source": [
    "commodity = \"Tomatoes\"\n",
    "prices_df = get_prices_1y(commodity=commodity, slug_id=veg_market, year=2022)\n",
    "print(prices_df.keys())"
   ]
  },
  {
   "cell_type": "code",
   "execution_count": 3,
   "metadata": {},
   "outputs": [
    {
     "name": "stderr",
     "output_type": "stream",
     "text": [
      "c:\\Users\\dinesh\\ProducePrices\\usda_mmn_utils.py:349: FutureWarning: The behavior of DataFrame concatenation with empty or all-NA entries is deprecated. In a future version, this will no longer exclude empty or all-NA columns when determining the result dtypes. To retain the old behavior, exclude the relevant entries before the concat operation.\n",
      "  package_to_pounds_new = pd.concat([package_to_pounds, pound_mapper])\n"
     ]
    }
   ],
   "source": [
    "variety_list = prices_df[\"variety\"].unique()\n",
    "package_types = prices_df[prices_df[\"variety\"].isin(variety_list)][\"package\"].unique()\n",
    "pound_mapper = get_package_weight_map(commodity=commodity, variety_list=variety_list, package_types=package_types, debug_prints=True)"
   ]
  },
  {
   "cell_type": "code",
   "execution_count": 4,
   "metadata": {},
   "outputs": [
    {
     "ename": "TypeError",
     "evalue": "'bool' object is not iterable",
     "output_type": "error",
     "traceback": [
      "\u001b[1;31m---------------------------------------------------------------------------\u001b[0m",
      "\u001b[1;31mTypeError\u001b[0m                                 Traceback (most recent call last)",
      "Cell \u001b[1;32mIn[4], line 2\u001b[0m\n\u001b[0;32m      1\u001b[0m alist \u001b[38;5;241m=\u001b[39m [\u001b[38;5;124m'\u001b[39m\u001b[38;5;124mred\u001b[39m\u001b[38;5;124m'\u001b[39m,\u001b[38;5;124m'\u001b[39m\u001b[38;5;124mgreen\u001b[39m\u001b[38;5;124m'\u001b[39m,\u001b[38;5;124m'\u001b[39m\u001b[38;5;124mblue\u001b[39m\u001b[38;5;124m'\u001b[39m]\n\u001b[1;32m----> 2\u001b[0m \u001b[38;5;28mprint\u001b[39m(\u001b[38;5;28;43mall\u001b[39;49m\u001b[43m(\u001b[49m\u001b[43m[\u001b[49m\u001b[38;5;124;43m'\u001b[39;49m\u001b[38;5;124;43mred\u001b[39;49m\u001b[38;5;124;43m'\u001b[39;49m\u001b[43m,\u001b[49m\u001b[38;5;124;43m'\u001b[39;49m\u001b[38;5;124;43mgreen\u001b[39;49m\u001b[38;5;124;43m'\u001b[39;49m\u001b[43m]\u001b[49m\u001b[43m \u001b[49m\u001b[38;5;129;43;01min\u001b[39;49;00m\u001b[43m \u001b[49m\u001b[43malist\u001b[49m\u001b[43m)\u001b[49m)\n",
      "\u001b[1;31mTypeError\u001b[0m: 'bool' object is not iterable"
     ]
    }
   ],
   "source": [
    "alist = ['red','green','blue']\n",
    "print(all(['red','green'] in alist))\n"
   ]
  }
 ],
 "metadata": {
  "kernelspec": {
   "display_name": "Python 3",
   "language": "python",
   "name": "python3"
  },
  "language_info": {
   "codemirror_mode": {
    "name": "ipython",
    "version": 3
   },
   "file_extension": ".py",
   "mimetype": "text/x-python",
   "name": "python",
   "nbconvert_exporter": "python",
   "pygments_lexer": "ipython3",
   "version": "3.11.9"
  }
 },
 "nbformat": 4,
 "nbformat_minor": 2
}
