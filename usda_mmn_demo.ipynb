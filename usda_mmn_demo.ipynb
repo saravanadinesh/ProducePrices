{
 "cells": [
  {
   "cell_type": "code",
   "execution_count": 1,
   "metadata": {},
   "outputs": [],
   "source": [
    "from usda_mmn_utils import *\n",
    "import openpyxl"
   ]
  },
  {
   "cell_type": "code",
   "execution_count": 2,
   "metadata": {},
   "outputs": [
    {
     "name": "stdout",
     "output_type": "stream",
     "text": [
      "  slug_id                  market_name\n",
      "0    2277               Atlanta fruits\n",
      "1    2278           Atlanta vegetables\n",
      "2    2279  Atlanta onions and potatoes\n",
      "3    2280                 Atlanta nuts\n",
      "4    2281             Baltimore fruits\n",
      "    slug_id                                        market_name\n",
      "137    3706    Hamburg, Germany Terminal Nut Prices (HA_FV201)\n",
      "138    3716                                Tokyo, Japan fruits\n",
      "139    3717                            Tokyo, Japan vegetables\n",
      "140    3718                   Tokyo, Japan onions and potatoes\n",
      "141    3719  Tokyo, Japan Ornamental Terminal Prices (TK_FV...\n"
     ]
    }
   ],
   "source": [
    "markets_df = get_markets_list()\n",
    "print(markets_df.head())\n",
    "print(markets_df.tail())"
   ]
  },
  {
   "cell_type": "code",
   "execution_count": 3,
   "metadata": {},
   "outputs": [
    {
     "name": "stdout",
     "output_type": "stream",
     "text": [
      "['Limes', 'Lemons', 'Grapes', 'Plantains', 'Coconuts', 'Apples', 'Papaya', 'Bananas', 'Peaches', 'Kiwifruit', 'Mangoes', 'Oranges', 'Guava', 'Grapefruit', 'Avocados', 'Cantaloupes', 'Blueberries', 'Raspberries', 'Pears', 'Strawberries', 'Blackberries', 'Honeydews', 'Pineapples', 'Dates', 'Watermelons', 'Carambola - Star Fruit', 'Rambutan']\n"
     ]
    }
   ],
   "source": [
    "commodities_list = get_commodities_list(slug_id = markets_df.iloc[0]['slug_id'])\n",
    "print(commodities_list)\n"
   ]
  },
  {
   "cell_type": "code",
   "execution_count": 4,
   "metadata": {},
   "outputs": [],
   "source": [
    "prices_df = get_prices(commodity=commodities_list[0], slug_id=markets_df.iloc[0]['slug_id'], start_year=2020, end_year=2022)"
   ]
  },
  {
   "cell_type": "code",
   "execution_count": 5,
   "metadata": {},
   "outputs": [
    {
     "name": "stdout",
     "output_type": "stream",
     "text": [
      "  report_date report_begin_date report_end_date       published_date  \\\n",
      "0  12/31/2020        12/31/2020      12/31/2020  12/31/2020 00:00:00   \n",
      "1  12/31/2020        12/31/2020      12/31/2020  12/31/2020 00:00:00   \n",
      "2  12/31/2020        12/31/2020      12/31/2020  12/31/2020 00:00:00   \n",
      "3  12/31/2020        12/31/2020      12/31/2020  12/31/2020 00:00:00   \n",
      "4  12/31/2020        12/31/2020      12/31/2020  12/31/2020 00:00:00   \n",
      "\n",
      "                           office_name office_state  office_city market_type  \\\n",
      "0  Atlanta (Forest Park), Georgia - SC           GA  Forest Park    Terminal   \n",
      "1  Atlanta (Forest Park), Georgia - SC           GA  Forest Park    Terminal   \n",
      "2  Atlanta (Forest Park), Georgia - SC           GA  Forest Park    Terminal   \n",
      "3  Atlanta (Forest Park), Georgia - SC           GA  Forest Park    Terminal   \n",
      "4  Atlanta (Forest Park), Georgia - SC           GA  Forest Park    Terminal   \n",
      "\n",
      "      market_location_name market_location_state  ... high_price  \\\n",
      "0  Atlanta Terminal Market                    GA  ...       21.0   \n",
      "1  Atlanta Terminal Market                    GA  ...       21.0   \n",
      "2  Atlanta Terminal Market                    GA  ...       21.0   \n",
      "3  Atlanta Terminal Market                    GA  ...       19.5   \n",
      "4  Atlanta Terminal Market                    GA  ...        9.5   \n",
      "\n",
      "   mostly_low_price mostly_high_price market_tone_comments offerings_comments  \\\n",
      "0              19.0              20.0        ABOUT STEADY.               NONE   \n",
      "1              19.0              20.0        ABOUT STEADY.               NONE   \n",
      "2              19.0              19.0        ABOUT STEADY.               NONE   \n",
      "3              19.0              19.0        ABOUT STEADY.               NONE   \n",
      "4               9.0               9.0        ABOUT STEADY.               NONE   \n",
      "\n",
      "  special_notes  reporter_comment commodity_comments  report_narrative  \\\n",
      "0           NaN  NONE - few 22.50                NaN               NaN   \n",
      "1           NaN  NONE - few 22.50                NaN               NaN   \n",
      "2           NaN  NONE - few 22.50                NaN               NaN   \n",
      "3           NaN  NONE - few 22.50                NaN               NaN   \n",
      "4           NaN       NONE - NONE                NaN               NaN   \n",
      "\n",
      "  report_footnotes  \n",
      "0              NaN  \n",
      "1              NaN  \n",
      "2              NaN  \n",
      "3              NaN  \n",
      "4              NaN  \n",
      "\n",
      "[5 rows x 45 columns]\n"
     ]
    }
   ],
   "source": [
    "print(prices_df.head())"
   ]
  },
  {
   "cell_type": "code",
   "execution_count": 1,
   "metadata": {},
   "outputs": [
    {
     "name": "stdout",
     "output_type": "stream",
     "text": [
      "['Malanga/ Yautia', 'Mint', 'Tomatoes, Plum Type', 'Peppers, Jalapeno', 'Spinach', 'Cauliflower', 'Greens, Swiss Chard', 'Taro', 'Peas, Snow', 'Lettuce, Iceberg', 'Daikon', 'Dry Eschallot', 'Carrots', 'Ginger Root', 'Peppers, Bell Type', 'Squash, Zucchini', 'Dill', 'Lettuce, Green Leaf', 'Garlic', 'Cilantro', 'Chayote', 'Lettuce, Red Leaf', 'Oregano', 'Tomatoes, Cherry', 'Cucumbers', 'Tomatillos', 'Tarragon', 'Rosemary', 'Chinese Cabbage', 'Thyme', 'Mushrooms', 'Onions, Green', 'Lettuce, Romaine', 'Peppers, Cubanelle', 'Escarole', 'Squash, Yellow Straightneck', 'Celeriac (Celery Root)', 'Rutabagas', 'Alfalfa Sprouts', 'Lemon Grass', 'Bok Choy', 'Endive', 'Tomatoes', 'Cabbage', 'Celery', 'Watercress', 'Asparagus', 'Peas, Sugar Snap', 'Corn, Sweet', 'Squash, Yellow Crookneck', 'Beans, Haricot Vert (French Type)', 'Parsnips', 'Artichokes', 'Anise', 'Bean Sprouts', 'Eggplant', 'Tomatoes, Grape Type', 'Parsley', 'Yuca (Cassava)', 'Sweet Potatoes', 'Beans, Half Runners', 'Leeks', 'Basil', 'Broccoli', 'Squash, Butternut', 'Beans, Round Green Type', 'Aloe Leaves', 'Peppers, Finger Hot', 'Lettuce, Boston', 'Arugula', 'Turnips', 'Horseradish', 'Greens, Mustard', 'Greens, Turnip Tops', 'Radishes', 'Greens, Collard', 'Cactus Leaf (Nopales)', 'Greens, Dandelion', 'Beans, Flat Green Type', 'Greens, Kale', 'Sage', 'Beets', 'Radicchio', 'Brussels Sprouts', 'Chives', 'Okra', 'Peppers, Serrano', 'Beans, Fava', 'Beans, Cranberry Type', 'Squash, Acorn', 'Squash, Spaghetti', 'Yams (Names)', 'Marjoram', 'Peppers, Poblano', 'Jicama', 'Peppers, Habanero']\n"
     ]
    }
   ],
   "source": [
    "from usda_mmn_utils import *\n",
    "import openpyxl\n",
    "import matplotlib.pyplot as plt\n",
    "veg_market = \"2278\"\n",
    "commodities_list = get_commodities_list(slug_id = veg_market)\n",
    "print(commodities_list)"
   ]
  },
  {
   "cell_type": "code",
   "execution_count": 12,
   "metadata": {},
   "outputs": [
    {
     "name": "stdout",
     "output_type": "stream",
     "text": [
      "Index(['date', 'slug_id', 'commodity', 'variety', 'package', 'item_size',\n",
      "       'properties', 'grade', 'organic', 'origin', 'price', 'unit_sales'],\n",
      "      dtype='object')\n",
      "         date  slug_id commodity     variety           package item_size  \\\n",
      "0  2010-12-30     2278  Tomatoes  VINE RIPES  5 kg/11 lb flats    medium   \n",
      "1  2010-12-30     2278  Tomatoes  VINE RIPES  5 kg/11 lb flats    medium   \n",
      "2  2010-12-30     2278  Tomatoes  VINE RIPES   cartons 2 layer      5x5s   \n",
      "3  2010-12-30     2278  Tomatoes  VINE RIPES   cartons 2 layer      4x5s   \n",
      "4  2010-12-30     2278  Tomatoes  VINE RIPES   cartons 2 layer      5x6s   \n",
      "\n",
      "  properties grade organic      origin  price   unit_sales  \n",
      "0        NaN   NaN       Y  California  38.00  ON THE VINE  \n",
      "1        NaN   NaN       N      Mexico  17.50  ON THE VINE  \n",
      "2        NaN   NaN       N         NaN  12.25          NaN  \n",
      "3        NaN   NaN       N         NaN  12.25          NaN  \n",
      "4        NaN   NaN       N         NaN  11.00          NaN  \n"
     ]
    }
   ],
   "source": [
    "commodity = \"Tomatoes\"\n",
    "prices_df = get_prices(commodity=commodity, slug_id=veg_market, start_year=2010, end_year=2023)\n",
    "print(prices_df.keys())\n",
    "print(prices_df.head())\n"
   ]
  },
  {
   "cell_type": "code",
   "execution_count": 23,
   "metadata": {},
   "outputs": [
    {
     "name": "stdout",
     "output_type": "stream",
     "text": [
      "[['VINE RIPES' '5 kg/11 lb flats']\n",
      " ['VINE RIPES' 'cartons 2 layer']\n",
      " ['VINE RIPES' 'flats 1 layer']\n",
      " ['IMMATURE GREENS' '25 lb cartons loose']\n",
      " ['MATURE GREENS' '25 lb cartons loose']\n",
      " ['VINE RIPES' '25 lb cartons place pack']\n",
      " ['VINE RIPES' '25 lb cartons loose']\n",
      " ['VINE RIPES' '10 lb cartons']\n",
      " ['VINE RIPES' '20 lb cartons loose']\n",
      " ['VINE RIPE - HEIRLOOM VARIETIES' '10 lb flats']\n",
      " ['VINE RIPES' '15 lb flats']\n",
      " ['VINE RIPES' 'flats 2 layer']\n",
      " ['VINE RIPES' 'cartons 3 layer']\n",
      " ['VINE RIPES' '15 lb cartons']\n",
      " ['VINE RIPES' '20 lb cartons']\n",
      " ['VINE RIPE - HEIRLOOM VARIETIES' '10 lb cartons']\n",
      " ['IMMATURE GREENS' '10 lb cartons']\n",
      " ['VINE RIPES' '11 lb flats']\n",
      " ['VINE RIPE - HEIRLOOM VARIETIES' '20 lb cartons loose']\n",
      " ['IMMATURE GREENS' '20 lb cartons loose']\n",
      " [nan '15 lb flats']\n",
      " ['MATURE GREENS' '25 lb cartons place pack']]\n"
     ]
    }
   ],
   "source": [
    "vc = prices_df[['variety', 'package']].drop_duplicates()\n",
    "print(vc.values)"
   ]
  },
  {
   "cell_type": "code",
   "execution_count": 13,
   "metadata": {},
   "outputs": [
    {
     "name": "stdout",
     "output_type": "stream",
     "text": [
      "   commodity     variety                   package  pounds\n",
      "0   Tomatoes  VINE RIPES          5 kg/11 lb flats    11.0\n",
      "1   Tomatoes  VINE RIPES           cartons 2 layer     NaN\n",
      "2   Tomatoes  VINE RIPES             flats 1 layer    15.0\n",
      "3   Tomatoes  VINE RIPES       25 lb cartons loose    25.0\n",
      "4   Tomatoes  VINE RIPES  25 lb cartons place pack    25.0\n",
      "..       ...         ...                       ...     ...\n",
      "65  Tomatoes         NaN             flats 2 layer     NaN\n",
      "66  Tomatoes         NaN           cartons 3 layer     NaN\n",
      "67  Tomatoes         NaN             15 lb cartons    15.0\n",
      "68  Tomatoes         NaN             20 lb cartons    20.0\n",
      "69  Tomatoes         NaN               11 lb flats    11.0\n",
      "\n",
      "[70 rows x 4 columns]\n"
     ]
    }
   ],
   "source": [
    "variety_list = prices_df[\"variety\"].unique()\n",
    "package_types = prices_df[prices_df[\"variety\"].isin(variety_list)][\"package\"].unique()\n",
    "pound_mapper = get_package_weight_map(commodity=commodity, variety_list=variety_list, package_types=package_types, debug_prints=True)\n",
    "print(pound_mapper)"
   ]
  },
  {
   "cell_type": "code",
   "execution_count": 9,
   "metadata": {},
   "outputs": [
    {
     "name": "stdout",
     "output_type": "stream",
     "text": [
      "VINE RIPES:5 kg/11 lb flats\n",
      "VINE RIPES:cartons 2 layer\n",
      "VINE RIPES:flats 1 layer\n",
      "VINE RIPES:25 lb cartons loose\n",
      "VINE RIPES:25 lb cartons place pack\n",
      "VINE RIPES:10 lb cartons\n",
      "VINE RIPES:20 lb cartons loose\n",
      "VINE RIPES:10 lb flats\n",
      "VINE RIPES:15 lb flats\n",
      "VINE RIPES:flats 2 layer\n",
      "VINE RIPES:cartons 3 layer\n",
      "VINE RIPES:15 lb cartons\n",
      "VINE RIPES:20 lb cartons\n",
      "VINE RIPES:11 lb flats\n",
      "IMMATURE GREENS:5 kg/11 lb flats\n",
      "IMMATURE GREENS:cartons 2 layer\n",
      "IMMATURE GREENS:flats 1 layer\n",
      "IMMATURE GREENS:25 lb cartons loose\n",
      "IMMATURE GREENS:25 lb cartons place pack\n",
      "IMMATURE GREENS:10 lb cartons\n",
      "IMMATURE GREENS:20 lb cartons loose\n",
      "IMMATURE GREENS:10 lb flats\n",
      "IMMATURE GREENS:15 lb flats\n",
      "IMMATURE GREENS:flats 2 layer\n",
      "IMMATURE GREENS:cartons 3 layer\n",
      "IMMATURE GREENS:15 lb cartons\n",
      "IMMATURE GREENS:20 lb cartons\n",
      "IMMATURE GREENS:11 lb flats\n",
      "MATURE GREENS:5 kg/11 lb flats\n",
      "MATURE GREENS:cartons 2 layer\n",
      "MATURE GREENS:flats 1 layer\n",
      "MATURE GREENS:25 lb cartons loose\n",
      "MATURE GREENS:25 lb cartons place pack\n",
      "MATURE GREENS:10 lb cartons\n",
      "MATURE GREENS:20 lb cartons loose\n",
      "MATURE GREENS:10 lb flats\n",
      "MATURE GREENS:15 lb flats\n",
      "MATURE GREENS:flats 2 layer\n",
      "MATURE GREENS:cartons 3 layer\n",
      "MATURE GREENS:15 lb cartons\n",
      "MATURE GREENS:20 lb cartons\n",
      "MATURE GREENS:11 lb flats\n",
      "here\n",
      "VINE RIPE - HEIRLOOM VARIETIES:5 kg/11 lb flats\n"
     ]
    },
    {
     "ename": "KeyboardInterrupt",
     "evalue": "",
     "output_type": "error",
     "traceback": [
      "\u001b[1;31m---------------------------------------------------------------------------\u001b[0m",
      "\u001b[1;31mKeyboardInterrupt\u001b[0m                         Traceback (most recent call last)",
      "Cell \u001b[1;32mIn[9], line 7\u001b[0m\n\u001b[0;32m      5\u001b[0m         \u001b[38;5;28mprint\u001b[39m(variety\u001b[38;5;241m+\u001b[39m\u001b[38;5;124m'\u001b[39m\u001b[38;5;124m:\u001b[39m\u001b[38;5;124m'\u001b[39m\u001b[38;5;241m+\u001b[39mpackage )\n\u001b[0;32m      6\u001b[0m         indices \u001b[38;5;241m=\u001b[39m prices_df[(prices_df\u001b[38;5;241m.\u001b[39mvariety\u001b[38;5;241m==\u001b[39mvariety)\u001b[38;5;241m&\u001b[39m(prices_df\u001b[38;5;241m.\u001b[39mpackage\u001b[38;5;241m==\u001b[39mpackage)]\u001b[38;5;241m.\u001b[39mindex\n\u001b[1;32m----> 7\u001b[0m         pounds \u001b[38;5;241m=\u001b[39m \u001b[43mpound_mapper\u001b[49m[(pound_mapper\u001b[38;5;241m.\u001b[39mvariety\u001b[38;5;241m==\u001b[39mvariety)\u001b[38;5;241m&\u001b[39m(pound_mapper\u001b[38;5;241m.\u001b[39mpackage\u001b[38;5;241m==\u001b[39mpackage)]\u001b[38;5;241m.\u001b[39miloc[\u001b[38;5;241m0\u001b[39m][\u001b[38;5;124m'\u001b[39m\u001b[38;5;124mpounds\u001b[39m\u001b[38;5;124m'\u001b[39m]\n\u001b[0;32m      8\u001b[0m         prices_df\u001b[38;5;241m.\u001b[39mloc[indices,\u001b[38;5;124m'\u001b[39m\u001b[38;5;124mppp\u001b[39m\u001b[38;5;124m'\u001b[39m] \u001b[38;5;241m=\u001b[39m prices_df\u001b[38;5;241m.\u001b[39mloc[indices, \u001b[38;5;124m'\u001b[39m\u001b[38;5;124mprice\u001b[39m\u001b[38;5;124m'\u001b[39m]\u001b[38;5;241m*\u001b[39mpounds\n\u001b[0;32m     10\u001b[0m sample_size_original \u001b[38;5;241m=\u001b[39m prices_df\u001b[38;5;241m.\u001b[39mshape[\u001b[38;5;241m0\u001b[39m]\n",
      "Cell \u001b[1;32mIn[9], line 7\u001b[0m\n\u001b[0;32m      5\u001b[0m         \u001b[38;5;28mprint\u001b[39m(variety\u001b[38;5;241m+\u001b[39m\u001b[38;5;124m'\u001b[39m\u001b[38;5;124m:\u001b[39m\u001b[38;5;124m'\u001b[39m\u001b[38;5;241m+\u001b[39mpackage )\n\u001b[0;32m      6\u001b[0m         indices \u001b[38;5;241m=\u001b[39m prices_df[(prices_df\u001b[38;5;241m.\u001b[39mvariety\u001b[38;5;241m==\u001b[39mvariety)\u001b[38;5;241m&\u001b[39m(prices_df\u001b[38;5;241m.\u001b[39mpackage\u001b[38;5;241m==\u001b[39mpackage)]\u001b[38;5;241m.\u001b[39mindex\n\u001b[1;32m----> 7\u001b[0m         pounds \u001b[38;5;241m=\u001b[39m \u001b[43mpound_mapper\u001b[49m[(pound_mapper\u001b[38;5;241m.\u001b[39mvariety\u001b[38;5;241m==\u001b[39mvariety)\u001b[38;5;241m&\u001b[39m(pound_mapper\u001b[38;5;241m.\u001b[39mpackage\u001b[38;5;241m==\u001b[39mpackage)]\u001b[38;5;241m.\u001b[39miloc[\u001b[38;5;241m0\u001b[39m][\u001b[38;5;124m'\u001b[39m\u001b[38;5;124mpounds\u001b[39m\u001b[38;5;124m'\u001b[39m]\n\u001b[0;32m      8\u001b[0m         prices_df\u001b[38;5;241m.\u001b[39mloc[indices,\u001b[38;5;124m'\u001b[39m\u001b[38;5;124mppp\u001b[39m\u001b[38;5;124m'\u001b[39m] \u001b[38;5;241m=\u001b[39m prices_df\u001b[38;5;241m.\u001b[39mloc[indices, \u001b[38;5;124m'\u001b[39m\u001b[38;5;124mprice\u001b[39m\u001b[38;5;124m'\u001b[39m]\u001b[38;5;241m*\u001b[39mpounds\n\u001b[0;32m     10\u001b[0m sample_size_original \u001b[38;5;241m=\u001b[39m prices_df\u001b[38;5;241m.\u001b[39mshape[\u001b[38;5;241m0\u001b[39m]\n",
      "File \u001b[1;32m~\\AppData\\Local\\Packages\\PythonSoftwareFoundation.Python.3.11_qbz5n2kfra8p0\\LocalCache\\local-packages\\Python311\\site-packages\\debugpy\\_vendored\\pydevd\\_pydevd_bundle\\pydevd_frame.py:1197\u001b[0m, in \u001b[0;36mPyDBFrame.trace_dispatch\u001b[1;34m(self, frame, event, arg)\u001b[0m\n\u001b[0;32m   1195\u001b[0m \u001b[38;5;28;01mif\u001b[39;00m is_line:\n\u001b[0;32m   1196\u001b[0m     \u001b[38;5;28mself\u001b[39m\u001b[38;5;241m.\u001b[39mset_suspend(thread, step_cmd, original_step_cmd\u001b[38;5;241m=\u001b[39minfo\u001b[38;5;241m.\u001b[39mpydev_original_step_cmd)\n\u001b[1;32m-> 1197\u001b[0m     \u001b[38;5;28;43mself\u001b[39;49m\u001b[38;5;241;43m.\u001b[39;49m\u001b[43mdo_wait_suspend\u001b[49m\u001b[43m(\u001b[49m\u001b[43mthread\u001b[49m\u001b[43m,\u001b[49m\u001b[43m \u001b[49m\u001b[43mframe\u001b[49m\u001b[43m,\u001b[49m\u001b[43m \u001b[49m\u001b[43mevent\u001b[49m\u001b[43m,\u001b[49m\u001b[43m \u001b[49m\u001b[43marg\u001b[49m\u001b[43m)\u001b[49m\n\u001b[0;32m   1198\u001b[0m \u001b[38;5;28;01melif\u001b[39;00m is_return:  \u001b[38;5;66;03m# return event\u001b[39;00m\n\u001b[0;32m   1199\u001b[0m     back \u001b[38;5;241m=\u001b[39m frame\u001b[38;5;241m.\u001b[39mf_back\n",
      "File \u001b[1;32m~\\AppData\\Local\\Packages\\PythonSoftwareFoundation.Python.3.11_qbz5n2kfra8p0\\LocalCache\\local-packages\\Python311\\site-packages\\debugpy\\_vendored\\pydevd\\_pydevd_bundle\\pydevd_frame.py:165\u001b[0m, in \u001b[0;36mPyDBFrame.do_wait_suspend\u001b[1;34m(self, *args, **kwargs)\u001b[0m\n\u001b[0;32m    164\u001b[0m \u001b[38;5;28;01mdef\u001b[39;00m \u001b[38;5;21mdo_wait_suspend\u001b[39m(\u001b[38;5;28mself\u001b[39m, \u001b[38;5;241m*\u001b[39margs, \u001b[38;5;241m*\u001b[39m\u001b[38;5;241m*\u001b[39mkwargs):\n\u001b[1;32m--> 165\u001b[0m     \u001b[38;5;28;43mself\u001b[39;49m\u001b[38;5;241;43m.\u001b[39;49m\u001b[43m_args\u001b[49m\u001b[43m[\u001b[49m\u001b[38;5;241;43m0\u001b[39;49m\u001b[43m]\u001b[49m\u001b[38;5;241;43m.\u001b[39;49m\u001b[43mdo_wait_suspend\u001b[49m\u001b[43m(\u001b[49m\u001b[38;5;241;43m*\u001b[39;49m\u001b[43margs\u001b[49m\u001b[43m,\u001b[49m\u001b[43m \u001b[49m\u001b[38;5;241;43m*\u001b[39;49m\u001b[38;5;241;43m*\u001b[39;49m\u001b[43mkwargs\u001b[49m\u001b[43m)\u001b[49m\n",
      "File \u001b[1;32m~\\AppData\\Local\\Packages\\PythonSoftwareFoundation.Python.3.11_qbz5n2kfra8p0\\LocalCache\\local-packages\\Python311\\site-packages\\debugpy\\_vendored\\pydevd\\pydevd.py:2070\u001b[0m, in \u001b[0;36mPyDB.do_wait_suspend\u001b[1;34m(self, thread, frame, event, arg, exception_type)\u001b[0m\n\u001b[0;32m   2067\u001b[0m             from_this_thread\u001b[38;5;241m.\u001b[39mappend(frame_custom_thread_id)\n\u001b[0;32m   2069\u001b[0m     \u001b[38;5;28;01mwith\u001b[39;00m \u001b[38;5;28mself\u001b[39m\u001b[38;5;241m.\u001b[39m_threads_suspended_single_notification\u001b[38;5;241m.\u001b[39mnotify_thread_suspended(thread_id, thread, stop_reason):\n\u001b[1;32m-> 2070\u001b[0m         keep_suspended \u001b[38;5;241m=\u001b[39m \u001b[38;5;28;43mself\u001b[39;49m\u001b[38;5;241;43m.\u001b[39;49m\u001b[43m_do_wait_suspend\u001b[49m\u001b[43m(\u001b[49m\u001b[43mthread\u001b[49m\u001b[43m,\u001b[49m\u001b[43m \u001b[49m\u001b[43mframe\u001b[49m\u001b[43m,\u001b[49m\u001b[43m \u001b[49m\u001b[43mevent\u001b[49m\u001b[43m,\u001b[49m\u001b[43m \u001b[49m\u001b[43marg\u001b[49m\u001b[43m,\u001b[49m\u001b[43m \u001b[49m\u001b[43msuspend_type\u001b[49m\u001b[43m,\u001b[49m\u001b[43m \u001b[49m\u001b[43mfrom_this_thread\u001b[49m\u001b[43m,\u001b[49m\u001b[43m \u001b[49m\u001b[43mframes_tracker\u001b[49m\u001b[43m)\u001b[49m\n\u001b[0;32m   2072\u001b[0m frames_list \u001b[38;5;241m=\u001b[39m \u001b[38;5;28;01mNone\u001b[39;00m\n\u001b[0;32m   2074\u001b[0m \u001b[38;5;28;01mif\u001b[39;00m keep_suspended:\n\u001b[0;32m   2075\u001b[0m     \u001b[38;5;66;03m# This means that we should pause again after a set next statement.\u001b[39;00m\n",
      "File \u001b[1;32m~\\AppData\\Local\\Packages\\PythonSoftwareFoundation.Python.3.11_qbz5n2kfra8p0\\LocalCache\\local-packages\\Python311\\site-packages\\debugpy\\_vendored\\pydevd\\pydevd.py:2106\u001b[0m, in \u001b[0;36mPyDB._do_wait_suspend\u001b[1;34m(self, thread, frame, event, arg, suspend_type, from_this_thread, frames_tracker)\u001b[0m\n\u001b[0;32m   2103\u001b[0m         \u001b[38;5;28mself\u001b[39m\u001b[38;5;241m.\u001b[39m_call_input_hook()\n\u001b[0;32m   2105\u001b[0m     \u001b[38;5;28mself\u001b[39m\u001b[38;5;241m.\u001b[39mprocess_internal_commands()\n\u001b[1;32m-> 2106\u001b[0m     time\u001b[38;5;241m.\u001b[39msleep(\u001b[38;5;241m0.01\u001b[39m)\n\u001b[0;32m   2108\u001b[0m \u001b[38;5;28mself\u001b[39m\u001b[38;5;241m.\u001b[39mcancel_async_evaluation(get_current_thread_id(thread), \u001b[38;5;28mstr\u001b[39m(\u001b[38;5;28mid\u001b[39m(frame)))\n\u001b[0;32m   2110\u001b[0m \u001b[38;5;66;03m# process any stepping instructions\u001b[39;00m\n",
      "\u001b[1;31mKeyboardInterrupt\u001b[0m: "
     ]
    }
   ],
   "source": [
    "for variety in variety_list:\n",
    "    if (variety == 'VINE RIPE - HEIRLOOM VARIETIES') and (package=='11 lb flats'):\n",
    "        print('here')\n",
    "    for package in package_types:\n",
    "        print(variety+':'+package )\n",
    "        indices = prices_df[(prices_df.variety==variety)&(prices_df.package==package)].index\n",
    "        pounds = pound_mapper[(pound_mapper.variety==variety)&(pound_mapper.package==package)].iloc[0]['pounds']\n",
    "        prices_df.loc[indices,'ppp'] = prices_df.loc[indices, 'price']*pounds\n",
    "\n",
    "sample_size_original = prices_df.shape[0]\n",
    "prices_df.dropna(subset=['ppp'], inplace=True)\n",
    "sample_size_withoutna = prices_df.shape[0]\n",
    "data_loss = ((sample_size_original - sample_size_withoutna)/sample_size_original)*100\n",
    "print('Data loss percentage due to not knowing weight of some packages: ' + str(data_loss) + ' %')"
   ]
  },
  {
   "cell_type": "code",
   "execution_count": null,
   "metadata": {},
   "outputs": [
    {
     "name": "stdout",
     "output_type": "stream",
     "text": [
      "            price\n",
      "date             \n",
      "2022-12-23   28.0\n",
      "2022-12-27   25.5\n",
      "2022-12-28   25.0\n",
      "2022-12-29   25.0\n",
      "2022-12-30   25.0\n"
     ]
    }
   ],
   "source": [
    "variety='VINE RIPES'\n",
    "onevarietydf = (prices_df[prices_df.variety==variety][['date', 'price']]).groupby(['date']).mean()\n",
    "print(onevarietydf.tail())"
   ]
  },
  {
   "cell_type": "code",
   "execution_count": null,
   "metadata": {},
   "outputs": [
    {
     "data": {
      "image/png": "[encoded data removed]",
      "text/plain": [
       "<Figure size 1000x600 with 1 Axes>"
      ]
     },
     "metadata": {},
     "output_type": "display_data"
    }
   ],
   "source": [
    "fig,ax = plt.subplots(1,1,figsize=(10,6))\n",
    "ax.plot(onevarietydf.index, onevarietydf.price, color='tab:orange')\n",
    "ax.set_xlabel('date')\n",
    "ax.set_ylabel('Price ($/Lb)')\n",
    "\n",
    "plt.title(variety)\n",
    "plt.show()"
   ]
  }
 ],
 "metadata": {
  "kernelspec": {
   "display_name": "Python 3",
   "language": "python",
   "name": "python3"
  },
  "language_info": {
   "codemirror_mode": {
    "name": "ipython",
    "version": 3
   },
   "file_extension": ".py",
   "mimetype": "text/x-python",
   "name": "python",
   "nbconvert_exporter": "python",
   "pygments_lexer": "ipython3",
   "version": "3.11.9"
  }
 },
 "nbformat": 4,
 "nbformat_minor": 2
}
