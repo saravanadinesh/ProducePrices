{
 "cells": [
  {
   "cell_type": "code",
   "execution_count": 13,
   "metadata": {},
   "outputs": [],
   "source": [
    "from usda_mmn_utils import *\n",
    "import openpyxl"
   ]
  },
  {
   "cell_type": "code",
   "execution_count": 14,
   "metadata": {},
   "outputs": [
    {
     "name": "stdout",
     "output_type": "stream",
     "text": [
      "  slug_id                  market_name\n",
      "0    2277               Atlanta fruits\n",
      "1    2278           Atlanta vegetables\n",
      "2    2279  Atlanta onions and potatoes\n",
      "3    2280                 Atlanta nuts\n",
      "4    2281             Baltimore fruits\n",
      "    slug_id                                        market_name\n",
      "137    3706    Hamburg, Germany Terminal Nut Prices (HA_FV201)\n",
      "138    3716                                Tokyo, Japan fruits\n",
      "139    3717                            Tokyo, Japan vegetables\n",
      "140    3718                   Tokyo, Japan onions and potatoes\n",
      "141    3719  Tokyo, Japan Ornamental Terminal Prices (TK_FV...\n"
     ]
    }
   ],
   "source": [
    "markets_df = get_markets_list()\n",
    "print(markets_df.head())\n",
    "print(markets_df.tail())"
   ]
  },
  {
   "cell_type": "code",
   "execution_count": 15,
   "metadata": {},
   "outputs": [
    {
     "name": "stdout",
     "output_type": "stream",
     "text": [
      "['Limes', 'Avocados', 'Grapes', 'Apples', 'Pineapples', 'Plantains', 'Lemons', 'Bananas', 'Cantaloupes', 'Grapefruit', 'Blueberries', 'Oranges', 'Papaya', 'Mangoes', 'Blackberries', 'Coconuts', 'Strawberries', 'Watermelons', 'Peaches', 'Pears', 'Kiwifruit', 'Carambola - Star Fruit', 'Raspberries', 'Honeydews', 'Dates', 'Guava']\n"
     ]
    }
   ],
   "source": [
    "commodities_list = get_commodities_list(slug_id = markets_df.iloc[0]['slug_id'])\n",
    "print(commodities_list)\n"
   ]
  },
  {
   "cell_type": "code",
   "execution_count": 16,
   "metadata": {},
   "outputs": [],
   "source": [
    "prices_df = get_prices(commodity=commodities_list[0], slug_id=markets_df.iloc[0]['slug_id'], start_year=2020, end_year=2022)"
   ]
  },
  {
   "cell_type": "code",
   "execution_count": 17,
   "metadata": {},
   "outputs": [
    {
     "name": "stdout",
     "output_type": "stream",
     "text": [
      "        date  slug_id commodity        variety        package item_size  \\\n",
      "0 2020-12-31     2277     Limes  SEEDLESS TYPE  10 lb cartons       48s   \n",
      "1 2020-12-31     2277     Limes  SEEDLESS TYPE  10 lb cartons       36s   \n",
      "2 2020-12-31     2277     Limes  SEEDLESS TYPE  40 lb cartons      230s   \n",
      "3 2020-12-31     2277     Limes  SEEDLESS TYPE  40 lb cartons      200s   \n",
      "4 2020-12-31     2277     Limes  SEEDLESS TYPE  10 lb cartons       54s   \n",
      "\n",
      "  properties grade organic  origin  price unit_sales  \n",
      "0       None   N/A       N  Mexico   8.75        N/A  \n",
      "1       None   N/A       N  Mexico   8.25        N/A  \n",
      "2       None   N/A       N  Mexico  19.75        N/A  \n",
      "3       None   N/A       N  Mexico  19.00        N/A  \n",
      "4       None   N/A       N  Mexico   8.25        N/A  \n"
     ]
    }
   ],
   "source": [
    "print(prices_df.head())"
   ]
  },
  {
   "cell_type": "code",
   "execution_count": 1,
   "metadata": {},
   "outputs": [],
   "source": [
    "from usda_mmn_utils import *\n",
    "import openpyxl\n",
    "import matplotlib.pyplot as plt\n",
    "from pprint import pprint"
   ]
  },
  {
   "cell_type": "code",
   "execution_count": 2,
   "metadata": {},
   "outputs": [],
   "source": [
    "\n",
    "veg_market = \"2278\"\n",
    "commodities_list = get_commodities_list(slug_id = veg_market)\n",
    "#print(commodities_list)"
   ]
  },
  {
   "cell_type": "code",
   "execution_count": 18,
   "metadata": {},
   "outputs": [],
   "source": [
    "commodity = \"Tomatoes\"\n",
    "prices_df = get_prices(commodity=commodity, slug_id=veg_market, start_year=2015, end_year=2023)\n",
    "prices_df['date'] = pd.to_datetime(prices_df['date'], format=\"%Y-%m-%d\")"
   ]
  },
  {
   "cell_type": "code",
   "execution_count": 19,
   "metadata": {},
   "outputs": [
    {
     "name": "stdout",
     "output_type": "stream",
     "text": [
      "(('VINE RIPES', 'cartons 2 layer'),\n",
      " ('MATURE GREENS', '25 lb cartons loose'),\n",
      " ('VINE RIPES', '25 lb cartons loose'),\n",
      " ('VINE RIPES', '10 lb cartons'),\n",
      " ('VINE RIPE - HEIRLOOM VARIETIES', '10 lb cartons'),\n",
      " ('IMMATURE GREENS', '25 lb cartons loose'),\n",
      " ('VINE RIPES', '11 lb flats'),\n",
      " ('IMMATURE GREENS', '20 lb cartons loose'),\n",
      " ('VINE RIPES', '25 lb cartons place pack'),\n",
      " ('VINE RIPES', '15 lb flats'),\n",
      " ('N/A', '15 lb flats'),\n",
      " ('VINE RIPES', '5 kg/11 lb flats'),\n",
      " ('VINE RIPES', 'flats 2 layer'),\n",
      " ('VINE RIPES', 'flats 1 layer'),\n",
      " ('MATURE GREENS', '25 lb cartons place pack'),\n",
      " ('VINE RIPE - HEIRLOOM VARIETIES', '10 lb flats'),\n",
      " ('VINE RIPES', '20 lb cartons loose'))\n"
     ]
    }
   ],
   "source": [
    "temp_df  =prices_df[['variety', 'package']].dropna()\n",
    "vp_tuples = tuple(map(tuple, temp_df[['variety', 'package']].drop_duplicates().values))\n",
    "pprint(vp_tuples)"
   ]
  },
  {
   "cell_type": "code",
   "execution_count": 20,
   "metadata": {},
   "outputs": [
    {
     "name": "stdout",
     "output_type": "stream",
     "text": [
      "  commodity                         variety                   package  pounds\n",
      "0  Tomatoes                      VINE RIPES           cartons 2 layer    20.0\n",
      "1  Tomatoes                   MATURE GREENS       25 lb cartons loose    25.0\n",
      "2  Tomatoes                      VINE RIPES       25 lb cartons loose    25.0\n",
      "3  Tomatoes                 IMMATURE GREENS       25 lb cartons loose    25.0\n",
      "4  Tomatoes                      VINE RIPES               11 lb flats    11.0\n",
      "5  Tomatoes                      VINE RIPES          5 kg/11 lb flats    11.0\n",
      "6  Tomatoes                      VINE RIPES       20 lb cartons loose    20.0\n",
      "0  Tomatoes                      VINE RIPES             10 lb cartons    10.0\n",
      "1  Tomatoes  VINE RIPE - HEIRLOOM VARIETIES             10 lb cartons    10.0\n",
      "2  Tomatoes                 IMMATURE GREENS       20 lb cartons loose    20.0\n",
      "3  Tomatoes                      VINE RIPES  25 lb cartons place pack    25.0\n",
      "4  Tomatoes                      VINE RIPES               15 lb flats    15.0\n",
      "5  Tomatoes                             N/A               15 lb flats    15.0\n",
      "6  Tomatoes                      VINE RIPES             flats 2 layer     NaN\n",
      "7  Tomatoes                      VINE RIPES             flats 1 layer    15.0\n",
      "8  Tomatoes                   MATURE GREENS  25 lb cartons place pack    25.0\n",
      "9  Tomatoes  VINE RIPE - HEIRLOOM VARIETIES               10 lb flats    10.0\n"
     ]
    }
   ],
   "source": [
    "pound_mapper = get_package_weight_map(commodity=commodity, variety_package=vp_tuples, debug_prints=True)\n",
    "print(pound_mapper)"
   ]
  },
  {
   "cell_type": "code",
   "execution_count": 21,
   "metadata": {},
   "outputs": [
    {
     "name": "stdout",
     "output_type": "stream",
     "text": [
      "VINE RIPES:cartons 2 layer\n",
      "VINE RIPES:cartons 2 layer:20.0\n",
      "MATURE GREENS:25 lb cartons loose\n",
      "MATURE GREENS:25 lb cartons loose:25.0\n",
      "VINE RIPES:25 lb cartons loose\n",
      "VINE RIPES:25 lb cartons loose:25.0\n",
      "VINE RIPES:10 lb cartons\n",
      "VINE RIPES:10 lb cartons:10.0\n",
      "VINE RIPE - HEIRLOOM VARIETIES:10 lb cartons\n",
      "VINE RIPE - HEIRLOOM VARIETIES:10 lb cartons:10.0\n",
      "IMMATURE GREENS:25 lb cartons loose\n",
      "IMMATURE GREENS:25 lb cartons loose:25.0\n",
      "VINE RIPES:11 lb flats\n",
      "VINE RIPES:11 lb flats:11.0\n",
      "IMMATURE GREENS:20 lb cartons loose\n",
      "IMMATURE GREENS:20 lb cartons loose:20.0\n",
      "VINE RIPES:25 lb cartons place pack\n",
      "VINE RIPES:25 lb cartons place pack:25.0\n",
      "VINE RIPES:15 lb flats\n",
      "VINE RIPES:15 lb flats:15.0\n",
      "N/A:15 lb flats\n",
      "N/A:15 lb flats:15.0\n",
      "VINE RIPES:5 kg/11 lb flats\n",
      "VINE RIPES:5 kg/11 lb flats:11.0\n",
      "VINE RIPES:flats 2 layer\n",
      "VINE RIPES:flats 2 layer:nan\n",
      "VINE RIPES:flats 1 layer\n",
      "VINE RIPES:flats 1 layer:15.0\n",
      "MATURE GREENS:25 lb cartons place pack\n",
      "MATURE GREENS:25 lb cartons place pack:25.0\n",
      "VINE RIPE - HEIRLOOM VARIETIES:10 lb flats\n",
      "VINE RIPE - HEIRLOOM VARIETIES:10 lb flats:10.0\n",
      "VINE RIPES:20 lb cartons loose\n",
      "VINE RIPES:20 lb cartons loose:20.0\n",
      "Data loss percentage due to not knowing weight of some packages: 1.0304420219283088 %\n"
     ]
    }
   ],
   "source": [
    "# Convert tomato prices to per-pound price\n",
    "for (variety, package) in vp_tuples:\n",
    "    print(str(variety)+':'+str(package))\n",
    "    indices = prices_df[(prices_df.variety==variety)&(prices_df.package==package)].index\n",
    "    pounds = pound_mapper[(pound_mapper.variety==variety)&(pound_mapper.package==package)].iloc[0]['pounds']\n",
    "    print(str(variety)+':'+str(package)+':'+str(pounds) )\n",
    "    prices_df.loc[indices,'ppp'] = prices_df.loc[indices, 'price']/pounds\n",
    "\n",
    "sample_size_original = prices_df.shape[0]\n",
    "prices_df.dropna(subset=['ppp'], inplace=True)\n",
    "sample_size_withoutna = prices_df.shape[0]\n",
    "data_loss = ((sample_size_original - sample_size_withoutna)/sample_size_original)*100\n",
    "print('Data loss percentage due to not knowing weight of some packages: ' + str(data_loss) + ' %')"
   ]
  },
  {
   "cell_type": "code",
   "execution_count": 24,
   "metadata": {},
   "outputs": [
    {
     "name": "stdout",
     "output_type": "stream",
     "text": [
      "            date  slug_id commodity     variety          package item_size  \\\n",
      "28867 2023-12-13     2278  Tomatoes  VINE RIPES  cartons 2 layer      5x6s   \n",
      "\n",
      "          properties grade organic origin   price unit_sales      ppp  \n",
      "28867  LIGHT RED-RED   NaN       N    NaN  33.875        NaN  1.69375  \n",
      "            date  slug_id commodity     variety          package item_size  \\\n",
      "28861 2023-12-14     2278  Tomatoes  VINE RIPES  cartons 2 layer      5x6s   \n",
      "\n",
      "          properties grade organic origin   price unit_sales      ppp  \n",
      "28861  LIGHT RED-RED   NaN       N    NaN  33.875        NaN  1.69375  \n",
      "                 ppp\n",
      "date                \n",
      "2023-12-01  0.982955\n",
      "2023-12-04  1.013250\n",
      "2023-12-05  1.015250\n",
      "2023-12-06  1.064875\n",
      "2023-12-07  1.088250\n",
      "2023-12-08  1.089250\n",
      "2023-12-11  1.107125\n",
      "2023-12-12  1.107125\n",
      "2023-12-13  1.322750\n",
      "2023-12-14  1.381136\n",
      "2023-12-15  1.450875\n",
      "2023-12-18  1.450875\n",
      "2023-12-19  1.450875\n",
      "2023-12-20  1.450875\n",
      "2023-12-21  1.514861\n",
      "2023-12-22  1.514861\n",
      "2023-12-26  1.553875\n",
      "2023-12-27  1.553875\n",
      "2023-12-28  1.553875\n",
      "2023-12-29  1.553875\n"
     ]
    }
   ],
   "source": [
    "variety='VINE RIPES'\n",
    "subdf = prices_df[(prices_df.variety==variety) &\n",
    "                  (prices_df.organic==\"N\") &\n",
    "                  (prices_df.package==\"cartons 2 layer\") &\n",
    "                  (prices_df.item_size==\"5x6s\")]\n",
    "pprint(subdf[(subdf.date.dt.year==2023) & (subdf.date.dt.month==12) & (subdf.date.dt.day==13)])\n",
    "pprint(subdf[(subdf.date.dt.year==2023) & (subdf.date.dt.month==12) & (subdf.date.dt.day==14)])\n",
    "# onevarietydf = (subdf[['date', 'ppp']]).groupby(['date']).mean()\n",
    "onevarietydf = (prices_df[['date', 'ppp']]).groupby(['date']).mean()\n",
    "#print(onevarietydf.index)\n",
    "print(onevarietydf.tail(20))"
   ]
  },
  {
   "cell_type": "code",
   "execution_count": 26,
   "metadata": {},
   "outputs": [
    {
     "data": {
      "image/png": "[encoded data removed]",
      "text/plain": [
       "<Figure size 1400x600 with 1 Axes>"
      ]
     },
     "metadata": {},
     "output_type": "display_data"
    }
   ],
   "source": [
    "fig,ax = plt.subplots(1,1,figsize=(14,6))\n",
    "ax.bar(onevarietydf.index, onevarietydf.ppp, color='tab:orange', width=1)\n",
    "ax.set_xlabel('date')\n",
    "ax.set_ylabel('Price ($/Lb)')\n",
    "\n",
    "plt.title(variety)\n",
    "plt.show()"
   ]
  }
 ],
 "metadata": {
  "kernelspec": {
   "display_name": "Python 3",
   "language": "python",
   "name": "python3"
  },
  "language_info": {
   "codemirror_mode": {
    "name": "ipython",
    "version": 3
   },
   "file_extension": ".py",
   "mimetype": "text/x-python",
   "name": "python",
   "nbconvert_exporter": "python",
   "pygments_lexer": "ipython3",
   "version": "3.11.9"
  }
 },
 "nbformat": 4,
 "nbformat_minor": 2
}
