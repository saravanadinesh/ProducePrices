{
 "cells": [
  {
   "cell_type": "code",
   "execution_count": 1,
   "metadata": {},
   "outputs": [],
   "source": [
    "from usda_mmn_utils import *\n"
   ]
  },
  {
   "cell_type": "code",
   "execution_count": 2,
   "metadata": {},
   "outputs": [
    {
     "name": "stdout",
     "output_type": "stream",
     "text": [
      "  slug_id                  market_name\n",
      "0    2277               Atlanta fruits\n",
      "1    2278           Atlanta vegetables\n",
      "2    2279  Atlanta onions and potatoes\n",
      "3    2280                 Atlanta nuts\n",
      "4    2281             Baltimore fruits\n"
     ]
    }
   ],
   "source": [
    "markets_df = get_markets_list()\n",
    "print(markets_df.head())\n"
   ]
  },
  {
   "cell_type": "code",
   "execution_count": 3,
   "metadata": {},
   "outputs": [
    {
     "name": "stdout",
     "output_type": "stream",
     "text": [
      "['Limes', 'Lemons', 'Grapes', 'Plantains', 'Coconuts', 'Apples', 'Papaya', 'Bananas', 'Peaches', 'Kiwifruit', 'Mangoes', 'Oranges', 'Guava', 'Grapefruit', 'Avocados', 'Cantaloupes', 'Blueberries', 'Raspberries', 'Pears', 'Strawberries', 'Blackberries', 'Honeydews', 'Pineapples', 'Dates', 'Watermelons', 'Carambola - Star Fruit', 'Rambutan']\n"
     ]
    }
   ],
   "source": [
    "commodities_list = get_commodities_list(slug_id = markets_df.iloc[0]['slug_id'])\n",
    "print(commodities_list)\n"
   ]
  },
  {
   "cell_type": "code",
   "execution_count": 4,
   "metadata": {},
   "outputs": [],
   "source": [
    "prices_df = get_prices(commodity=commodities_list[0], slug_id=markets_df.iloc[0]['slug_id'], start_year=2023)"
   ]
  },
  {
   "cell_type": "code",
   "execution_count": 5,
   "metadata": {},
   "outputs": [
    {
     "name": "stdout",
     "output_type": "stream",
     "text": [
      "  report_date  slug_id commodity        variety        package item_size  \\\n",
      "0  12/29/2023     2277     Limes  SEEDLESS TYPE  40 lb cartons      200s   \n",
      "1  12/29/2023     2277     Limes  SEEDLESS TYPE  40 lb cartons      150s   \n",
      "2  12/29/2023     2277     Limes  SEEDLESS TYPE  10 lb cartons       54s   \n",
      "3  12/29/2023     2277     Limes  SEEDLESS TYPE  10 lb cartons       48s   \n",
      "4  12/29/2023     2277     Limes  SEEDLESS TYPE  40 lb cartons      150s   \n",
      "\n",
      "  properties           grade organic     origin low_price high_price  \\\n",
      "0       None  No Grade Marks       N     Mexico     31.00      34.50   \n",
      "1       None  No Grade Marks       N     Mexico     33.00      36.00   \n",
      "2       None  No Grade Marks       N     Mexico     11.50      13.00   \n",
      "3       None  No Grade Marks       N     Mexico     11.50      11.50   \n",
      "4       None  No Grade Marks       N  Guatemala     25.00      25.00   \n",
      "\n",
      "  unit_sales  \n",
      "0        N/A  \n",
      "1        N/A  \n",
      "2        N/A  \n",
      "3        N/A  \n",
      "4        N/A  \n"
     ]
    }
   ],
   "source": [
    "print(prices_df.head())"
   ]
  }
 ],
 "metadata": {
  "kernelspec": {
   "display_name": "Python 3",
   "language": "python",
   "name": "python3"
  },
  "language_info": {
   "codemirror_mode": {
    "name": "ipython",
    "version": 3
   },
   "file_extension": ".py",
   "mimetype": "text/x-python",
   "name": "python",
   "nbconvert_exporter": "python",
   "pygments_lexer": "ipython3",
   "version": "3.11.9"
  }
 },
 "nbformat": 4,
 "nbformat_minor": 2
}
