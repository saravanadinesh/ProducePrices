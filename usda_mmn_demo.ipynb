{
 "cells": [
  {
   "cell_type": "code",
   "execution_count": 1,
   "metadata": {},
   "outputs": [],
   "source": [
    "from usda_mmn_utils import *\n",
    "import openpyxl"
   ]
  },
  {
   "cell_type": "code",
   "execution_count": 2,
   "metadata": {},
   "outputs": [
    {
     "name": "stdout",
     "output_type": "stream",
     "text": [
      "  slug_id                  market_name\n",
      "0    2277               Atlanta fruits\n",
      "1    2278           Atlanta vegetables\n",
      "2    2279  Atlanta onions and potatoes\n",
      "3    2280                 Atlanta nuts\n",
      "4    2281             Baltimore fruits\n",
      "    slug_id                                        market_name\n",
      "137    3706    Hamburg, Germany Terminal Nut Prices (HA_FV201)\n",
      "138    3716                                Tokyo, Japan fruits\n",
      "139    3717                            Tokyo, Japan vegetables\n",
      "140    3718                   Tokyo, Japan onions and potatoes\n",
      "141    3719  Tokyo, Japan Ornamental Terminal Prices (TK_FV...\n"
     ]
    }
   ],
   "source": [
    "markets_df = get_markets_list()\n",
    "print(markets_df.head())\n",
    "print(markets_df.tail())"
   ]
  },
  {
   "cell_type": "code",
   "execution_count": 3,
   "metadata": {},
   "outputs": [
    {
     "name": "stdout",
     "output_type": "stream",
     "text": [
      "['Limes', 'Lemons', 'Grapes', 'Plantains', 'Coconuts', 'Apples', 'Papaya', 'Bananas', 'Peaches', 'Kiwifruit', 'Mangoes', 'Oranges', 'Guava', 'Grapefruit', 'Avocados', 'Cantaloupes', 'Blueberries', 'Raspberries', 'Pears', 'Strawberries', 'Blackberries', 'Honeydews', 'Pineapples', 'Dates', 'Watermelons', 'Carambola - Star Fruit', 'Rambutan']\n"
     ]
    }
   ],
   "source": [
    "commodities_list = get_commodities_list(slug_id = markets_df.iloc[0]['slug_id'])\n",
    "print(commodities_list)\n"
   ]
  },
  {
   "cell_type": "code",
   "execution_count": 4,
   "metadata": {},
   "outputs": [],
   "source": [
    "prices_df = get_prices(commodity=commodities_list[0], slug_id=markets_df.iloc[0]['slug_id'], start_year=2020, end_year=2022)"
   ]
  },
  {
   "cell_type": "code",
   "execution_count": 5,
   "metadata": {},
   "outputs": [
    {
     "name": "stdout",
     "output_type": "stream",
     "text": [
      "  report_date report_begin_date report_end_date       published_date  \\\n",
      "0  12/31/2020        12/31/2020      12/31/2020  12/31/2020 00:00:00   \n",
      "1  12/31/2020        12/31/2020      12/31/2020  12/31/2020 00:00:00   \n",
      "2  12/31/2020        12/31/2020      12/31/2020  12/31/2020 00:00:00   \n",
      "3  12/31/2020        12/31/2020      12/31/2020  12/31/2020 00:00:00   \n",
      "4  12/31/2020        12/31/2020      12/31/2020  12/31/2020 00:00:00   \n",
      "\n",
      "                           office_name office_state  office_city market_type  \\\n",
      "0  Atlanta (Forest Park), Georgia - SC           GA  Forest Park    Terminal   \n",
      "1  Atlanta (Forest Park), Georgia - SC           GA  Forest Park    Terminal   \n",
      "2  Atlanta (Forest Park), Georgia - SC           GA  Forest Park    Terminal   \n",
      "3  Atlanta (Forest Park), Georgia - SC           GA  Forest Park    Terminal   \n",
      "4  Atlanta (Forest Park), Georgia - SC           GA  Forest Park    Terminal   \n",
      "\n",
      "      market_location_name market_location_state  ... high_price  \\\n",
      "0  Atlanta Terminal Market                    GA  ...       21.0   \n",
      "1  Atlanta Terminal Market                    GA  ...       21.0   \n",
      "2  Atlanta Terminal Market                    GA  ...       21.0   \n",
      "3  Atlanta Terminal Market                    GA  ...       19.5   \n",
      "4  Atlanta Terminal Market                    GA  ...        9.5   \n",
      "\n",
      "   mostly_low_price mostly_high_price market_tone_comments offerings_comments  \\\n",
      "0              19.0              20.0        ABOUT STEADY.               NONE   \n",
      "1              19.0              20.0        ABOUT STEADY.               NONE   \n",
      "2              19.0              19.0        ABOUT STEADY.               NONE   \n",
      "3              19.0              19.0        ABOUT STEADY.               NONE   \n",
      "4               9.0               9.0        ABOUT STEADY.               NONE   \n",
      "\n",
      "  special_notes  reporter_comment commodity_comments  report_narrative  \\\n",
      "0           NaN  NONE - few 22.50                NaN               NaN   \n",
      "1           NaN  NONE - few 22.50                NaN               NaN   \n",
      "2           NaN  NONE - few 22.50                NaN               NaN   \n",
      "3           NaN  NONE - few 22.50                NaN               NaN   \n",
      "4           NaN       NONE - NONE                NaN               NaN   \n",
      "\n",
      "  report_footnotes  \n",
      "0              NaN  \n",
      "1              NaN  \n",
      "2              NaN  \n",
      "3              NaN  \n",
      "4              NaN  \n",
      "\n",
      "[5 rows x 45 columns]\n"
     ]
    }
   ],
   "source": [
    "print(prices_df.head())"
   ]
  },
  {
   "cell_type": "code",
   "execution_count": 1,
   "metadata": {},
   "outputs": [
    {
     "name": "stdout",
     "output_type": "stream",
     "text": [
      "['Cabbage', 'Okra', 'Beans, Round Green Type', 'Marjoram', 'Asparagus', 'Spinach', 'Oregano', 'Tomatoes', 'Lemon Grass', 'Tomatillos', 'Squash, Yellow Straightneck', 'Bean Sprouts', 'Rutabagas', 'Parsley', 'Lettuce, Romaine', 'Cucumbers', 'Celery', 'Artichokes', 'Malanga/ Yautia', 'Greens, Swiss Chard', 'Taro', 'Chives', 'Peppers, Finger Hot', 'Chinese Cabbage', 'Daikon', 'Peppers, Bell Type', 'Mushrooms', 'Parsnips', 'Rosemary', 'Peppers, Serrano', 'Beets', 'Chayote', 'Dill', 'Beans, Cranberry Type', 'Cauliflower', 'Beans, Flat Green Type', 'Yuca (Cassava)', 'Watercress', 'Escarole', 'Celeriac (Celery Root)', 'Sweet Potatoes', 'Lettuce, Green Leaf', 'Radicchio', 'Carrots', 'Lettuce, Red Leaf', 'Tomatoes, Plum Type', 'Cilantro', 'Peppers, Habanero', 'Broccoli', 'Squash, Zucchini', 'Dry Eschallot', 'Mint', 'Eggplant', 'Arugula', 'Bok Choy', 'Tomatoes, Grape Type', 'Peas, Snow', 'Squash, Acorn', 'Endive', 'Alfalfa Sprouts', 'Turnips', 'Jicama', 'Squash, Yellow Crookneck', 'Sage', 'Basil', 'Lettuce, Iceberg', 'Beans, Half Runners', 'Peas, Sugar Snap', 'Onions, Green', 'Radishes', 'Squash, Butternut', 'Horseradish', 'Tarragon', 'Leeks', 'Garlic', 'Yams (Names)', 'Cactus Leaf (Nopales)', 'Corn, Sweet', 'Thyme', 'Squash, Spaghetti', 'Greens, Collard', 'Beans, Haricot Vert (French Type)', 'Peppers, Jalapeno', 'Brussels Sprouts', 'Greens, Kale', 'Peppers, Cubanelle', 'Lettuce, Boston', 'Greens, Dandelion', 'Greens, Turnip Tops', 'Anise', 'Beans, Fava', 'Aloe Leaves', 'Tomatoes, Cherry', 'Peppers, Poblano', 'Ginger Root', 'Greens, Mustard']\n"
     ]
    }
   ],
   "source": [
    "from usda_mmn_utils import *\n",
    "import openpyxl\n",
    "veg_market = \"2278\"\n",
    "commodities_list = get_commodities_list(slug_id = veg_market)\n",
    "print(commodities_list)"
   ]
  },
  {
   "cell_type": "code",
   "execution_count": 27,
   "metadata": {},
   "outputs": [
    {
     "name": "stdout",
     "output_type": "stream",
     "text": [
      "Index(['report_date', 'report_begin_date', 'report_end_date', 'published_date',\n",
      "       'office_name', 'office_state', 'office_city', 'market_type',\n",
      "       'market_location_name', 'market_location_state', 'market_location_city',\n",
      "       'slug_id', 'slug_name', 'report_title', 'group', 'category',\n",
      "       'commodity', 'variety', 'repack', 'package', 'storage',\n",
      "       'transportation_mode', 'grade', 'unit_sales', 'item_size', 'appearance',\n",
      "       'quality', 'condition', 'organic', 'crop', 'origin', 'district',\n",
      "       'environment', 'properties', 'low_price', 'high_price',\n",
      "       'mostly_low_price', 'mostly_high_price', 'market_tone_comments',\n",
      "       'offerings_comments', 'special_notes', 'reporter_comment',\n",
      "       'commodity_comments', 'report_narrative', 'report_footnotes'],\n",
      "      dtype='object')\n",
      "  report_date     market_location_name  slug_id slug_name            group  \\\n",
      "0  12/30/2022  Atlanta Terminal Market     2278  AJ_FV020  Specialty Crops   \n",
      "1  12/30/2022  Atlanta Terminal Market     2278  AJ_FV020  Specialty Crops   \n",
      "2  12/30/2022  Atlanta Terminal Market     2278  AJ_FV020  Specialty Crops   \n",
      "3  12/30/2022  Atlanta Terminal Market     2278  AJ_FV020  Specialty Crops   \n",
      "4  12/30/2022  Atlanta Terminal Market     2278  AJ_FV020  Specialty Crops   \n",
      "\n",
      "     category commodity     variety repack              package  ...  quality  \\\n",
      "0  Vegetables  Tomatoes  VINE RIPES    NaN  25 lb cartons loose  ...      NaN   \n",
      "1  Vegetables  Tomatoes  VINE RIPES    NaN  25 lb cartons loose  ...      NaN   \n",
      "2  Vegetables  Tomatoes  VINE RIPES    NaN  25 lb cartons loose  ...      NaN   \n",
      "3  Vegetables  Tomatoes  VINE RIPES  Local      cartons 2 layer  ...      NaN   \n",
      "4  Vegetables  Tomatoes  VINE RIPES  Local      cartons 2 layer  ...      NaN   \n",
      "\n",
      "   condition organic  crop   origin district  environment     properties  \\\n",
      "0        NaN       N   NaN  Florida      NaN          NaN  LIGHT RED-RED   \n",
      "1        NaN       N   NaN  Florida      NaN          NaN  LIGHT RED-RED   \n",
      "2        NaN       N   NaN  Florida      NaN          NaN  LIGHT RED-RED   \n",
      "3        NaN       N   NaN      NaN      NaN          NaN  LIGHT RED-RED   \n",
      "4        NaN       N   NaN      NaN      NaN          NaN  LIGHT RED-RED   \n",
      "\n",
      "  low_price  high_price  \n",
      "0      25.0       29.00  \n",
      "1      23.0       25.00  \n",
      "2      23.0       25.00  \n",
      "3      32.0       32.75  \n",
      "4      28.0       30.00  \n",
      "\n",
      "[5 rows x 26 columns]\n"
     ]
    }
   ],
   "source": [
    "commodity = \"Tomatoes\"\n",
    "prices_df = get_prices_1y(commodity=commodity, slug_id=veg_market, year=2022)\n",
    "print(prices_df.keys())\n",
    "prices_df.drop(columns=['report_begin_date', 'report_end_date', 'published_date',\\\n",
    "                        'office_name', 'office_state', 'office_city',\\\n",
    "                        'market_location_city', 'report_title',\\\n",
    "                        'market_type', 'market_location_state',\\\n",
    "                        'mostly_high_price','mostly_low_price',\\\n",
    "                        'market_tone_comments', 'offerings_comments', 'reporter_comment', 'commodity_comments',\\\n",
    "                        'special_notes', 'report_narrative', 'report_footnotes'], inplace=True)\n",
    "print(prices_df.head())\n"
   ]
  },
  {
   "cell_type": "code",
   "execution_count": 28,
   "metadata": {},
   "outputs": [
    {
     "name": "stdout",
     "output_type": "stream",
     "text": [
      "   commodity          variety              package  pounds\n",
      "0   Tomatoes       VINE RIPES  25 lb cartons loose    25.0\n",
      "1   Tomatoes       VINE RIPES      cartons 2 layer     NaN\n",
      "2   Tomatoes       VINE RIPES     5 kg/11 lb flats    11.0\n",
      "3   Tomatoes       VINE RIPES  20 lb cartons loose    20.0\n",
      "4   Tomatoes    MATURE GREENS  25 lb cartons loose    25.0\n",
      "5   Tomatoes    MATURE GREENS      cartons 2 layer     NaN\n",
      "6   Tomatoes    MATURE GREENS     5 kg/11 lb flats    11.0\n",
      "7   Tomatoes    MATURE GREENS  20 lb cartons loose    20.0\n",
      "8   Tomatoes  IMMATURE GREENS  25 lb cartons loose    25.0\n",
      "9   Tomatoes  IMMATURE GREENS      cartons 2 layer     NaN\n",
      "10  Tomatoes  IMMATURE GREENS     5 kg/11 lb flats    11.0\n",
      "11  Tomatoes  IMMATURE GREENS  20 lb cartons loose    20.0\n"
     ]
    }
   ],
   "source": [
    "variety_list = prices_df[\"variety\"].unique()\n",
    "package_types = prices_df[prices_df[\"variety\"].isin(variety_list)][\"package\"].unique()\n",
    "pound_mapper = get_package_weight_map(commodity=commodity, variety_list=variety_list, package_types=package_types, debug_prints=True)\n",
    "print(pound_mapper)"
   ]
  },
  {
   "cell_type": "code",
   "execution_count": 29,
   "metadata": {},
   "outputs": [
    {
     "name": "stdout",
     "output_type": "stream",
     "text": [
      "Data loss percentage due to not knowing weight of some packages: 40.94418052256532 %\n"
     ]
    }
   ],
   "source": [
    "prices_df.loc[:, 'average_price'] = (prices_df.loc[:,'high_price']+prices_df.loc[:,'low_price'])/2\n",
    "for variety in variety_list:\n",
    "    for package in package_types:\n",
    "        indices = prices_df[(prices_df.variety==variety)&(prices_df.package==package)].index\n",
    "        pounds = pound_mapper[(pound_mapper.variety==variety)&(pound_mapper.package==package)].iloc[0]['pounds']\n",
    "        prices_df.loc[indices,'ppp'] = prices_df.loc[indices, 'average_price']*pounds\n",
    "\n",
    "sample_size_original = prices_df.shape[0]\n",
    "prices_df.dropna(subset=['ppp'], inplace=True)\n",
    "sample_size_withoutna = prices_df.shape[0]\n",
    "data_loss = ((sample_size_original - sample_size_withoutna)/sample_size_original)*100\n",
    "print('Data loss percentage due to not knowing weight of some packages: ' + str(data_loss) + ' %')"
   ]
  },
  {
   "cell_type": "code",
   "execution_count": 30,
   "metadata": {},
   "outputs": [
    {
     "name": "stdout",
     "output_type": "stream",
     "text": [
      "report_date              object\n",
      "market_location_name     object\n",
      "slug_id                   int64\n",
      "slug_name                object\n",
      "group                    object\n",
      "category                 object\n",
      "commodity                object\n",
      "variety                  object\n",
      "repack                   object\n",
      "package                  object\n",
      "storage                 float64\n",
      "transportation_mode     float64\n",
      "grade                    object\n",
      "unit_sales              float64\n",
      "item_size                object\n",
      "appearance               object\n",
      "quality                 float64\n",
      "condition               float64\n",
      "organic                  object\n",
      "crop                    float64\n",
      "origin                   object\n",
      "district                 object\n",
      "environment              object\n",
      "properties               object\n",
      "low_price               float64\n",
      "high_price              float64\n",
      "average_price           float64\n",
      "ppp                     float64\n",
      "dtype: object\n"
     ]
    }
   ],
   "source": [
    "print(prices_df.dtypes)"
   ]
  }
 ],
 "metadata": {
  "kernelspec": {
   "display_name": "Python 3",
   "language": "python",
   "name": "python3"
  },
  "language_info": {
   "codemirror_mode": {
    "name": "ipython",
    "version": 3
   },
   "file_extension": ".py",
   "mimetype": "text/x-python",
   "name": "python",
   "nbconvert_exporter": "python",
   "pygments_lexer": "ipython3",
   "version": "3.11.9"
  }
 },
 "nbformat": 4,
 "nbformat_minor": 2
}
